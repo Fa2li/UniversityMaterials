{
 "cells": [
  {
   "cell_type": "code",
   "execution_count": 149,
   "metadata": {},
   "outputs": [
    {
     "data": {
      "image/png": "[encoded data removed]",
      "text/plain": [
       "<Figure size 432x288 with 1 Axes>"
      ]
     },
     "metadata": {
      "needs_background": "light"
     },
     "output_type": "display_data"
    }
   ],
   "source": [
    "import numpy as np\n",
    "import matplotlib.pyplot as plt\n",
    "\n",
    "img = np.ones((600,600,3))\n",
    "\n",
    "def DrawLine(x1, y1, x2, y2):\n",
    "    dx = abs(x2-x1)\n",
    "    dy = abs(y2-y1)\n",
    "    \n",
    "    if(x1<x2):\n",
    "        xs = 1;\n",
    "    else:\n",
    "        xs = -1;\n",
    "    \n",
    "    if(y1<y2):\n",
    "        ys = 1;\n",
    "    else:\n",
    "        ys = -1;\n",
    "        \n",
    "    x=x1;\n",
    "    y=y1;\n",
    "    \n",
    "    if(dx>=dy):\n",
    "        p=2*dy-dx;\n",
    "        while(x!=x2):\n",
    "            x=x+xs;\n",
    "            if(p>0):\n",
    "                y=y+ys;\n",
    "                p=p+2*dy-2*dx;\n",
    "            else:\n",
    "                p=p+2*dy;\n",
    "                \n",
    "            img[y,x] = 0;\n",
    "    else:\n",
    "        p=2*dx-dy;\n",
    "        while(y!=y2):\n",
    "            y=y+ys\n",
    "            if(p>0):\n",
    "                x=x+xs;\n",
    "                p=p+2*dx-2*dy;\n",
    "            else:\n",
    "                p=p+2*dx;\n",
    "                \n",
    "            img[y,x] = 0;\n",
    "    return;\n",
    "\n",
    "#201ADB100 is my id\n",
    "#100\n",
    "#draw 1\n",
    "DrawLine(30,300, 100, 200)\n",
    "DrawLine(100,200, 100, 400)\n",
    "#draw 0\n",
    "DrawLine(200,400, 300, 400)\n",
    "DrawLine(199,199, 299, 199)\n",
    "DrawLine(199,399, 199, 199)\n",
    "DrawLine(298,398, 298, 198)\n",
    "#draw 0\n",
    "DrawLine(400,400, 500, 400)\n",
    "DrawLine(399,199, 499, 199)\n",
    "DrawLine(400,400, 400, 200)\n",
    "DrawLine(499,400, 499, 200)\n",
    "plt.imshow(img);\n",
    "plt.show();"
   ]
  },
  {
   "cell_type": "markdown",
   "metadata": {},
   "source": []
  },
  {
   "cell_type": "code",
   "execution_count": null,
   "metadata": {},
   "outputs": [],
   "source": []
  }
 ],
 "metadata": {
  "kernelspec": {
   "display_name": "Python 3",
   "language": "python",
   "name": "python3"
  },
  "language_info": {
   "codemirror_mode": {
    "name": "ipython",
    "version": 3
   },
   "file_extension": ".py",
   "mimetype": "text/x-python",
   "name": "python",
   "nbconvert_exporter": "python",
   "pygments_lexer": "ipython3",
   "version": "3.7.6"
  }
 },
 "nbformat": 4,
 "nbformat_minor": 4
}
